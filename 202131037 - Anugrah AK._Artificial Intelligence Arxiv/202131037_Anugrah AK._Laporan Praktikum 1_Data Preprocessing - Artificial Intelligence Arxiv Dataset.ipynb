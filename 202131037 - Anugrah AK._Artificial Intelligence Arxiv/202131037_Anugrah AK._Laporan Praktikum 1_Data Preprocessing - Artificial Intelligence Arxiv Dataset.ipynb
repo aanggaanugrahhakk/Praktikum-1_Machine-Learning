{
 "cells": [
  {
   "cell_type": "markdown",
   "id": "33528696",
   "metadata": {},
   "source": [
    "# Data Preprocessing : Artificial Intelligence Arxiv Dataset"
   ]
  },
  {
   "cell_type": "markdown",
   "id": "c15dee88",
   "metadata": {},
   "source": [
    "## Memasukkan Library"
   ]
  },
  {
   "cell_type": "code",
   "execution_count": 1,
   "id": "8927a824",
   "metadata": {},
   "outputs": [],
   "source": [
    "import pandas as pd\n",
    "#202131037_Anugrah AK."
   ]
  },
  {
   "cell_type": "markdown",
   "id": "d9042def",
   "metadata": {},
   "source": [
    "## Membaca Dataset"
   ]
  },
  {
   "cell_type": "code",
   "execution_count": 2,
   "id": "ee80f885",
   "metadata": {},
   "outputs": [],
   "source": [
    "dataset = pd.read_csv('arxiv_papers.csv')\n",
    "#202131037_Anugrah AK."
   ]
  },
  {
   "cell_type": "code",
   "execution_count": 3,
   "id": "f23877ac",
   "metadata": {},
   "outputs": [
    {
     "data": {
      "text/html": [
       "<div>\n",
       "<style scoped>\n",
       "    .dataframe tbody tr th:only-of-type {\n",
       "        vertical-align: middle;\n",
       "    }\n",
       "\n",
       "    .dataframe tbody tr th {\n",
       "        vertical-align: top;\n",
       "    }\n",
       "\n",
       "    .dataframe thead th {\n",
       "        text-align: right;\n",
       "    }\n",
       "</style>\n",
       "<table border=\"1\" class=\"dataframe\">\n",
       "  <thead>\n",
       "    <tr style=\"text-align: right;\">\n",
       "      <th></th>\n",
       "      <th>title</th>\n",
       "      <th>abstract</th>\n",
       "      <th>published</th>\n",
       "      <th>authors</th>\n",
       "      <th>url</th>\n",
       "    </tr>\n",
       "  </thead>\n",
       "  <tbody>\n",
       "    <tr>\n",
       "      <th>0</th>\n",
       "      <td>MetaFormer is Actually What You Need for Vision</td>\n",
       "      <td>Transformers have shown great potential in com...</td>\n",
       "      <td>2021-11-22T18:52:03+00:00</td>\n",
       "      <td>['Weihao Yu', 'Mi Luo', 'Pan Zhou', 'Chenyang ...</td>\n",
       "      <td>http://arxiv.org/abs/2111.11418v1</td>\n",
       "    </tr>\n",
       "    <tr>\n",
       "      <th>1</th>\n",
       "      <td>Turbo Autoencoder with a Trainable Interleaver</td>\n",
       "      <td>A critical aspect of reliable communication in...</td>\n",
       "      <td>2021-11-22T18:37:03+00:00</td>\n",
       "      <td>['Karl Chahine', 'Yihan Jiang', 'Pooja Nuti', ...</td>\n",
       "      <td>http://arxiv.org/abs/2111.11410v1</td>\n",
       "    </tr>\n",
       "    <tr>\n",
       "      <th>2</th>\n",
       "      <td>Ab-initio calculation of point defect equilibr...</td>\n",
       "      <td>Point defects are responsible for a wide range...</td>\n",
       "      <td>2021-11-22T17:11:17+00:00</td>\n",
       "      <td>['Mubashir Mansoor', 'Mehya Mansoor', 'Maryam ...</td>\n",
       "      <td>http://arxiv.org/abs/2111.11359v1</td>\n",
       "    </tr>\n",
       "    <tr>\n",
       "      <th>3</th>\n",
       "      <td>Divergent electrostriction at ferroelectric ph...</td>\n",
       "      <td>We investigate the electrostrictive response a...</td>\n",
       "      <td>2021-11-22T17:00:32+00:00</td>\n",
       "      <td>['Daniel S. P. Tanner', 'Pierre-Eymeric Janoli...</td>\n",
       "      <td>http://arxiv.org/abs/2111.11352v1</td>\n",
       "    </tr>\n",
       "    <tr>\n",
       "      <th>4</th>\n",
       "      <td>ProxyFL: Decentralized Federated Learning thro...</td>\n",
       "      <td>Institutions in highly regulated domains such ...</td>\n",
       "      <td>2021-11-22T16:47:39+00:00</td>\n",
       "      <td>['Shivam Kalra', 'Junfeng Wen', 'Jesse C. Cres...</td>\n",
       "      <td>http://arxiv.org/abs/2111.11343v1</td>\n",
       "    </tr>\n",
       "    <tr>\n",
       "      <th>...</th>\n",
       "      <td>...</td>\n",
       "      <td>...</td>\n",
       "      <td>...</td>\n",
       "      <td>...</td>\n",
       "      <td>...</td>\n",
       "    </tr>\n",
       "    <tr>\n",
       "      <th>7995</th>\n",
       "      <td>Differentiable Random Access Memory using Latt...</td>\n",
       "      <td>We introduce a differentiable random access me...</td>\n",
       "      <td>2021-07-07T20:55:42+00:00</td>\n",
       "      <td>['Adam P. Goucher', 'Rajan Troll']</td>\n",
       "      <td>http://arxiv.org/abs/2107.03474v1</td>\n",
       "    </tr>\n",
       "    <tr>\n",
       "      <th>7996</th>\n",
       "      <td>An open-endcap blade trap for radial-2D ion cr...</td>\n",
       "      <td>We present the design and experimental demonst...</td>\n",
       "      <td>2021-07-07T20:54:14+00:00</td>\n",
       "      <td>['Yuanheng Xie', 'Jiafeng Cui', \"Marissa D'Ono...</td>\n",
       "      <td>http://arxiv.org/abs/2107.03471v1</td>\n",
       "    </tr>\n",
       "    <tr>\n",
       "      <th>7997</th>\n",
       "      <td>An Empirical Analysis of VM Startup Times in P...</td>\n",
       "      <td>VM startup time is an essential factor in desi...</td>\n",
       "      <td>2021-07-07T20:20:49+00:00</td>\n",
       "      <td>['Jianwei Hao', 'Ting Jiang', 'Wei Wang', 'In ...</td>\n",
       "      <td>http://arxiv.org/abs/2107.03467v1</td>\n",
       "    </tr>\n",
       "    <tr>\n",
       "      <th>7998</th>\n",
       "      <td>A repeated-measures study on emotional respons...</td>\n",
       "      <td>The introduction of COVID-19 lockdown measures...</td>\n",
       "      <td>2021-07-07T20:20:10+00:00</td>\n",
       "      <td>['Maximilian Mozes', 'Isabelle van der Vegt', ...</td>\n",
       "      <td>http://arxiv.org/abs/2107.03466v2</td>\n",
       "    </tr>\n",
       "    <tr>\n",
       "      <th>7999</th>\n",
       "      <td>Anticipating Safety Issues in E2E Conversation...</td>\n",
       "      <td>Over the last several years, end-to-end neural...</td>\n",
       "      <td>2021-07-07T19:25:57+00:00</td>\n",
       "      <td>['Emily Dinan', 'Gavin Abercrombie', 'A. Stevi...</td>\n",
       "      <td>http://arxiv.org/abs/2107.03451v3</td>\n",
       "    </tr>\n",
       "  </tbody>\n",
       "</table>\n",
       "<p>8000 rows × 5 columns</p>\n",
       "</div>"
      ],
      "text/plain": [
       "                                                  title  \\\n",
       "0       MetaFormer is Actually What You Need for Vision   \n",
       "1        Turbo Autoencoder with a Trainable Interleaver   \n",
       "2     Ab-initio calculation of point defect equilibr...   \n",
       "3     Divergent electrostriction at ferroelectric ph...   \n",
       "4     ProxyFL: Decentralized Federated Learning thro...   \n",
       "...                                                 ...   \n",
       "7995  Differentiable Random Access Memory using Latt...   \n",
       "7996  An open-endcap blade trap for radial-2D ion cr...   \n",
       "7997  An Empirical Analysis of VM Startup Times in P...   \n",
       "7998  A repeated-measures study on emotional respons...   \n",
       "7999  Anticipating Safety Issues in E2E Conversation...   \n",
       "\n",
       "                                               abstract  \\\n",
       "0     Transformers have shown great potential in com...   \n",
       "1     A critical aspect of reliable communication in...   \n",
       "2     Point defects are responsible for a wide range...   \n",
       "3     We investigate the electrostrictive response a...   \n",
       "4     Institutions in highly regulated domains such ...   \n",
       "...                                                 ...   \n",
       "7995  We introduce a differentiable random access me...   \n",
       "7996  We present the design and experimental demonst...   \n",
       "7997  VM startup time is an essential factor in desi...   \n",
       "7998  The introduction of COVID-19 lockdown measures...   \n",
       "7999  Over the last several years, end-to-end neural...   \n",
       "\n",
       "                      published  \\\n",
       "0     2021-11-22T18:52:03+00:00   \n",
       "1     2021-11-22T18:37:03+00:00   \n",
       "2     2021-11-22T17:11:17+00:00   \n",
       "3     2021-11-22T17:00:32+00:00   \n",
       "4     2021-11-22T16:47:39+00:00   \n",
       "...                         ...   \n",
       "7995  2021-07-07T20:55:42+00:00   \n",
       "7996  2021-07-07T20:54:14+00:00   \n",
       "7997  2021-07-07T20:20:49+00:00   \n",
       "7998  2021-07-07T20:20:10+00:00   \n",
       "7999  2021-07-07T19:25:57+00:00   \n",
       "\n",
       "                                                authors  \\\n",
       "0     ['Weihao Yu', 'Mi Luo', 'Pan Zhou', 'Chenyang ...   \n",
       "1     ['Karl Chahine', 'Yihan Jiang', 'Pooja Nuti', ...   \n",
       "2     ['Mubashir Mansoor', 'Mehya Mansoor', 'Maryam ...   \n",
       "3     ['Daniel S. P. Tanner', 'Pierre-Eymeric Janoli...   \n",
       "4     ['Shivam Kalra', 'Junfeng Wen', 'Jesse C. Cres...   \n",
       "...                                                 ...   \n",
       "7995                 ['Adam P. Goucher', 'Rajan Troll']   \n",
       "7996  ['Yuanheng Xie', 'Jiafeng Cui', \"Marissa D'Ono...   \n",
       "7997  ['Jianwei Hao', 'Ting Jiang', 'Wei Wang', 'In ...   \n",
       "7998  ['Maximilian Mozes', 'Isabelle van der Vegt', ...   \n",
       "7999  ['Emily Dinan', 'Gavin Abercrombie', 'A. Stevi...   \n",
       "\n",
       "                                    url  \n",
       "0     http://arxiv.org/abs/2111.11418v1  \n",
       "1     http://arxiv.org/abs/2111.11410v1  \n",
       "2     http://arxiv.org/abs/2111.11359v1  \n",
       "3     http://arxiv.org/abs/2111.11352v1  \n",
       "4     http://arxiv.org/abs/2111.11343v1  \n",
       "...                                 ...  \n",
       "7995  http://arxiv.org/abs/2107.03474v1  \n",
       "7996  http://arxiv.org/abs/2107.03471v1  \n",
       "7997  http://arxiv.org/abs/2107.03467v1  \n",
       "7998  http://arxiv.org/abs/2107.03466v2  \n",
       "7999  http://arxiv.org/abs/2107.03451v3  \n",
       "\n",
       "[8000 rows x 5 columns]"
      ]
     },
     "execution_count": 3,
     "metadata": {},
     "output_type": "execute_result"
    }
   ],
   "source": [
    "dataset\n",
    "#202131037_Anugrah AK."
   ]
  },
  {
   "cell_type": "markdown",
   "id": "537ee040",
   "metadata": {},
   "source": [
    "## Bikin Dataset Sendiri"
   ]
  },
  {
   "cell_type": "code",
   "execution_count": null,
   "id": "54e8023a",
   "metadata": {},
   "outputs": [],
   "source": []
  },
  {
   "cell_type": "code",
   "execution_count": null,
   "id": "17b7eb09",
   "metadata": {},
   "outputs": [],
   "source": []
  },
  {
   "cell_type": "markdown",
   "id": "4a3bac13",
   "metadata": {},
   "source": [
    "## Data Preprocessing"
   ]
  },
  {
   "cell_type": "markdown",
   "id": "5f3ca3df",
   "metadata": {},
   "source": [
    "### Melihat 5 Data Pertama"
   ]
  },
  {
   "cell_type": "code",
   "execution_count": 4,
   "id": "c855fc64",
   "metadata": {},
   "outputs": [
    {
     "data": {
      "text/html": [
       "<div>\n",
       "<style scoped>\n",
       "    .dataframe tbody tr th:only-of-type {\n",
       "        vertical-align: middle;\n",
       "    }\n",
       "\n",
       "    .dataframe tbody tr th {\n",
       "        vertical-align: top;\n",
       "    }\n",
       "\n",
       "    .dataframe thead th {\n",
       "        text-align: right;\n",
       "    }\n",
       "</style>\n",
       "<table border=\"1\" class=\"dataframe\">\n",
       "  <thead>\n",
       "    <tr style=\"text-align: right;\">\n",
       "      <th></th>\n",
       "      <th>title</th>\n",
       "      <th>abstract</th>\n",
       "      <th>published</th>\n",
       "      <th>authors</th>\n",
       "      <th>url</th>\n",
       "    </tr>\n",
       "  </thead>\n",
       "  <tbody>\n",
       "    <tr>\n",
       "      <th>0</th>\n",
       "      <td>MetaFormer is Actually What You Need for Vision</td>\n",
       "      <td>Transformers have shown great potential in com...</td>\n",
       "      <td>2021-11-22T18:52:03+00:00</td>\n",
       "      <td>['Weihao Yu', 'Mi Luo', 'Pan Zhou', 'Chenyang ...</td>\n",
       "      <td>http://arxiv.org/abs/2111.11418v1</td>\n",
       "    </tr>\n",
       "    <tr>\n",
       "      <th>1</th>\n",
       "      <td>Turbo Autoencoder with a Trainable Interleaver</td>\n",
       "      <td>A critical aspect of reliable communication in...</td>\n",
       "      <td>2021-11-22T18:37:03+00:00</td>\n",
       "      <td>['Karl Chahine', 'Yihan Jiang', 'Pooja Nuti', ...</td>\n",
       "      <td>http://arxiv.org/abs/2111.11410v1</td>\n",
       "    </tr>\n",
       "    <tr>\n",
       "      <th>2</th>\n",
       "      <td>Ab-initio calculation of point defect equilibr...</td>\n",
       "      <td>Point defects are responsible for a wide range...</td>\n",
       "      <td>2021-11-22T17:11:17+00:00</td>\n",
       "      <td>['Mubashir Mansoor', 'Mehya Mansoor', 'Maryam ...</td>\n",
       "      <td>http://arxiv.org/abs/2111.11359v1</td>\n",
       "    </tr>\n",
       "    <tr>\n",
       "      <th>3</th>\n",
       "      <td>Divergent electrostriction at ferroelectric ph...</td>\n",
       "      <td>We investigate the electrostrictive response a...</td>\n",
       "      <td>2021-11-22T17:00:32+00:00</td>\n",
       "      <td>['Daniel S. P. Tanner', 'Pierre-Eymeric Janoli...</td>\n",
       "      <td>http://arxiv.org/abs/2111.11352v1</td>\n",
       "    </tr>\n",
       "    <tr>\n",
       "      <th>4</th>\n",
       "      <td>ProxyFL: Decentralized Federated Learning thro...</td>\n",
       "      <td>Institutions in highly regulated domains such ...</td>\n",
       "      <td>2021-11-22T16:47:39+00:00</td>\n",
       "      <td>['Shivam Kalra', 'Junfeng Wen', 'Jesse C. Cres...</td>\n",
       "      <td>http://arxiv.org/abs/2111.11343v1</td>\n",
       "    </tr>\n",
       "  </tbody>\n",
       "</table>\n",
       "</div>"
      ],
      "text/plain": [
       "                                               title  \\\n",
       "0    MetaFormer is Actually What You Need for Vision   \n",
       "1     Turbo Autoencoder with a Trainable Interleaver   \n",
       "2  Ab-initio calculation of point defect equilibr...   \n",
       "3  Divergent electrostriction at ferroelectric ph...   \n",
       "4  ProxyFL: Decentralized Federated Learning thro...   \n",
       "\n",
       "                                            abstract  \\\n",
       "0  Transformers have shown great potential in com...   \n",
       "1  A critical aspect of reliable communication in...   \n",
       "2  Point defects are responsible for a wide range...   \n",
       "3  We investigate the electrostrictive response a...   \n",
       "4  Institutions in highly regulated domains such ...   \n",
       "\n",
       "                   published  \\\n",
       "0  2021-11-22T18:52:03+00:00   \n",
       "1  2021-11-22T18:37:03+00:00   \n",
       "2  2021-11-22T17:11:17+00:00   \n",
       "3  2021-11-22T17:00:32+00:00   \n",
       "4  2021-11-22T16:47:39+00:00   \n",
       "\n",
       "                                             authors  \\\n",
       "0  ['Weihao Yu', 'Mi Luo', 'Pan Zhou', 'Chenyang ...   \n",
       "1  ['Karl Chahine', 'Yihan Jiang', 'Pooja Nuti', ...   \n",
       "2  ['Mubashir Mansoor', 'Mehya Mansoor', 'Maryam ...   \n",
       "3  ['Daniel S. P. Tanner', 'Pierre-Eymeric Janoli...   \n",
       "4  ['Shivam Kalra', 'Junfeng Wen', 'Jesse C. Cres...   \n",
       "\n",
       "                                 url  \n",
       "0  http://arxiv.org/abs/2111.11418v1  \n",
       "1  http://arxiv.org/abs/2111.11410v1  \n",
       "2  http://arxiv.org/abs/2111.11359v1  \n",
       "3  http://arxiv.org/abs/2111.11352v1  \n",
       "4  http://arxiv.org/abs/2111.11343v1  "
      ]
     },
     "execution_count": 4,
     "metadata": {},
     "output_type": "execute_result"
    }
   ],
   "source": [
    "dataset.head()\n",
    "#202131037_Anugrah AK."
   ]
  },
  {
   "cell_type": "markdown",
   "id": "aff9d692",
   "metadata": {},
   "source": [
    "### Melihat 5 Data Terakhir"
   ]
  },
  {
   "cell_type": "code",
   "execution_count": 5,
   "id": "6260209d",
   "metadata": {},
   "outputs": [
    {
     "data": {
      "text/html": [
       "<div>\n",
       "<style scoped>\n",
       "    .dataframe tbody tr th:only-of-type {\n",
       "        vertical-align: middle;\n",
       "    }\n",
       "\n",
       "    .dataframe tbody tr th {\n",
       "        vertical-align: top;\n",
       "    }\n",
       "\n",
       "    .dataframe thead th {\n",
       "        text-align: right;\n",
       "    }\n",
       "</style>\n",
       "<table border=\"1\" class=\"dataframe\">\n",
       "  <thead>\n",
       "    <tr style=\"text-align: right;\">\n",
       "      <th></th>\n",
       "      <th>title</th>\n",
       "      <th>abstract</th>\n",
       "      <th>published</th>\n",
       "      <th>authors</th>\n",
       "      <th>url</th>\n",
       "    </tr>\n",
       "  </thead>\n",
       "  <tbody>\n",
       "    <tr>\n",
       "      <th>7995</th>\n",
       "      <td>Differentiable Random Access Memory using Latt...</td>\n",
       "      <td>We introduce a differentiable random access me...</td>\n",
       "      <td>2021-07-07T20:55:42+00:00</td>\n",
       "      <td>['Adam P. Goucher', 'Rajan Troll']</td>\n",
       "      <td>http://arxiv.org/abs/2107.03474v1</td>\n",
       "    </tr>\n",
       "    <tr>\n",
       "      <th>7996</th>\n",
       "      <td>An open-endcap blade trap for radial-2D ion cr...</td>\n",
       "      <td>We present the design and experimental demonst...</td>\n",
       "      <td>2021-07-07T20:54:14+00:00</td>\n",
       "      <td>['Yuanheng Xie', 'Jiafeng Cui', \"Marissa D'Ono...</td>\n",
       "      <td>http://arxiv.org/abs/2107.03471v1</td>\n",
       "    </tr>\n",
       "    <tr>\n",
       "      <th>7997</th>\n",
       "      <td>An Empirical Analysis of VM Startup Times in P...</td>\n",
       "      <td>VM startup time is an essential factor in desi...</td>\n",
       "      <td>2021-07-07T20:20:49+00:00</td>\n",
       "      <td>['Jianwei Hao', 'Ting Jiang', 'Wei Wang', 'In ...</td>\n",
       "      <td>http://arxiv.org/abs/2107.03467v1</td>\n",
       "    </tr>\n",
       "    <tr>\n",
       "      <th>7998</th>\n",
       "      <td>A repeated-measures study on emotional respons...</td>\n",
       "      <td>The introduction of COVID-19 lockdown measures...</td>\n",
       "      <td>2021-07-07T20:20:10+00:00</td>\n",
       "      <td>['Maximilian Mozes', 'Isabelle van der Vegt', ...</td>\n",
       "      <td>http://arxiv.org/abs/2107.03466v2</td>\n",
       "    </tr>\n",
       "    <tr>\n",
       "      <th>7999</th>\n",
       "      <td>Anticipating Safety Issues in E2E Conversation...</td>\n",
       "      <td>Over the last several years, end-to-end neural...</td>\n",
       "      <td>2021-07-07T19:25:57+00:00</td>\n",
       "      <td>['Emily Dinan', 'Gavin Abercrombie', 'A. Stevi...</td>\n",
       "      <td>http://arxiv.org/abs/2107.03451v3</td>\n",
       "    </tr>\n",
       "  </tbody>\n",
       "</table>\n",
       "</div>"
      ],
      "text/plain": [
       "                                                  title  \\\n",
       "7995  Differentiable Random Access Memory using Latt...   \n",
       "7996  An open-endcap blade trap for radial-2D ion cr...   \n",
       "7997  An Empirical Analysis of VM Startup Times in P...   \n",
       "7998  A repeated-measures study on emotional respons...   \n",
       "7999  Anticipating Safety Issues in E2E Conversation...   \n",
       "\n",
       "                                               abstract  \\\n",
       "7995  We introduce a differentiable random access me...   \n",
       "7996  We present the design and experimental demonst...   \n",
       "7997  VM startup time is an essential factor in desi...   \n",
       "7998  The introduction of COVID-19 lockdown measures...   \n",
       "7999  Over the last several years, end-to-end neural...   \n",
       "\n",
       "                      published  \\\n",
       "7995  2021-07-07T20:55:42+00:00   \n",
       "7996  2021-07-07T20:54:14+00:00   \n",
       "7997  2021-07-07T20:20:49+00:00   \n",
       "7998  2021-07-07T20:20:10+00:00   \n",
       "7999  2021-07-07T19:25:57+00:00   \n",
       "\n",
       "                                                authors  \\\n",
       "7995                 ['Adam P. Goucher', 'Rajan Troll']   \n",
       "7996  ['Yuanheng Xie', 'Jiafeng Cui', \"Marissa D'Ono...   \n",
       "7997  ['Jianwei Hao', 'Ting Jiang', 'Wei Wang', 'In ...   \n",
       "7998  ['Maximilian Mozes', 'Isabelle van der Vegt', ...   \n",
       "7999  ['Emily Dinan', 'Gavin Abercrombie', 'A. Stevi...   \n",
       "\n",
       "                                    url  \n",
       "7995  http://arxiv.org/abs/2107.03474v1  \n",
       "7996  http://arxiv.org/abs/2107.03471v1  \n",
       "7997  http://arxiv.org/abs/2107.03467v1  \n",
       "7998  http://arxiv.org/abs/2107.03466v2  \n",
       "7999  http://arxiv.org/abs/2107.03451v3  "
      ]
     },
     "execution_count": 5,
     "metadata": {},
     "output_type": "execute_result"
    }
   ],
   "source": [
    "dataset.tail()\n",
    "#202131037_Anugrah AK."
   ]
  },
  {
   "cell_type": "markdown",
   "id": "daea75ae",
   "metadata": {},
   "source": [
    "## Cek Tipe Data Yang Digunakan"
   ]
  },
  {
   "cell_type": "code",
   "execution_count": 6,
   "id": "6f7cace1",
   "metadata": {},
   "outputs": [
    {
     "name": "stdout",
     "output_type": "stream",
     "text": [
      "<class 'pandas.core.frame.DataFrame'>\n",
      "RangeIndex: 8000 entries, 0 to 7999\n",
      "Data columns (total 5 columns):\n",
      " #   Column     Non-Null Count  Dtype \n",
      "---  ------     --------------  ----- \n",
      " 0   title      8000 non-null   object\n",
      " 1   abstract   8000 non-null   object\n",
      " 2   published  8000 non-null   object\n",
      " 3   authors    8000 non-null   object\n",
      " 4   url        8000 non-null   object\n",
      "dtypes: object(5)\n",
      "memory usage: 312.6+ KB\n"
     ]
    }
   ],
   "source": [
    "dataset.info()\n",
    "#202131037_Anugrah AK."
   ]
  },
  {
   "cell_type": "markdown",
   "id": "71c94b21",
   "metadata": {},
   "source": [
    "## Cek Data Yang Kosong Dan Tidak Kosong"
   ]
  },
  {
   "cell_type": "code",
   "execution_count": 7,
   "id": "857c86da",
   "metadata": {},
   "outputs": [
    {
     "data": {
      "text/plain": [
       "title        0\n",
       "abstract     0\n",
       "published    0\n",
       "authors      0\n",
       "url          0\n",
       "dtype: int64"
      ]
     },
     "execution_count": 7,
     "metadata": {},
     "output_type": "execute_result"
    }
   ],
   "source": [
    "dataset.isnull().sum()\n",
    "#202131037_Anugrah AK."
   ]
  },
  {
   "cell_type": "markdown",
   "id": "c275629f",
   "metadata": {},
   "source": [
    "## Menghapus Data Yang Kosong"
   ]
  },
  {
   "cell_type": "code",
   "execution_count": 8,
   "id": "247495d5",
   "metadata": {},
   "outputs": [],
   "source": [
    "dataset = dataset.dropna()\n",
    "#202131037_Anugrah AK."
   ]
  },
  {
   "cell_type": "code",
   "execution_count": 9,
   "id": "fdd476a8",
   "metadata": {},
   "outputs": [
    {
     "data": {
      "text/plain": [
       "title        0\n",
       "abstract     0\n",
       "published    0\n",
       "authors      0\n",
       "url          0\n",
       "dtype: int64"
      ]
     },
     "execution_count": 9,
     "metadata": {},
     "output_type": "execute_result"
    }
   ],
   "source": [
    "dataset.isnull().sum()\n",
    "#202131037_Anugrah AK."
   ]
  },
  {
   "cell_type": "markdown",
   "id": "0c14632e",
   "metadata": {},
   "source": [
    "## Deskripsi Data"
   ]
  },
  {
   "cell_type": "code",
   "execution_count": 10,
   "id": "14289b4f",
   "metadata": {},
   "outputs": [
    {
     "data": {
      "text/html": [
       "<div>\n",
       "<style scoped>\n",
       "    .dataframe tbody tr th:only-of-type {\n",
       "        vertical-align: middle;\n",
       "    }\n",
       "\n",
       "    .dataframe tbody tr th {\n",
       "        vertical-align: top;\n",
       "    }\n",
       "\n",
       "    .dataframe thead th {\n",
       "        text-align: right;\n",
       "    }\n",
       "</style>\n",
       "<table border=\"1\" class=\"dataframe\">\n",
       "  <thead>\n",
       "    <tr style=\"text-align: right;\">\n",
       "      <th></th>\n",
       "      <th>title</th>\n",
       "      <th>abstract</th>\n",
       "      <th>published</th>\n",
       "      <th>authors</th>\n",
       "      <th>url</th>\n",
       "    </tr>\n",
       "  </thead>\n",
       "  <tbody>\n",
       "    <tr>\n",
       "      <th>count</th>\n",
       "      <td>8000</td>\n",
       "      <td>8000</td>\n",
       "      <td>8000</td>\n",
       "      <td>8000</td>\n",
       "      <td>8000</td>\n",
       "    </tr>\n",
       "    <tr>\n",
       "      <th>unique</th>\n",
       "      <td>7999</td>\n",
       "      <td>7999</td>\n",
       "      <td>7992</td>\n",
       "      <td>7915</td>\n",
       "      <td>8000</td>\n",
       "    </tr>\n",
       "    <tr>\n",
       "      <th>top</th>\n",
       "      <td>The Giant Radio Array for Neutrino Detection (...</td>\n",
       "      <td>Methods for extending -- generalizing or trans...</td>\n",
       "      <td>2021-11-08T17:02:32+00:00</td>\n",
       "      <td>['Zhe Shen', 'Takeshi Tsuchiya']</td>\n",
       "      <td>http://arxiv.org/abs/2111.11418v1</td>\n",
       "    </tr>\n",
       "    <tr>\n",
       "      <th>freq</th>\n",
       "      <td>2</td>\n",
       "      <td>2</td>\n",
       "      <td>3</td>\n",
       "      <td>4</td>\n",
       "      <td>1</td>\n",
       "    </tr>\n",
       "  </tbody>\n",
       "</table>\n",
       "</div>"
      ],
      "text/plain": [
       "                                                    title  \\\n",
       "count                                                8000   \n",
       "unique                                               7999   \n",
       "top     The Giant Radio Array for Neutrino Detection (...   \n",
       "freq                                                    2   \n",
       "\n",
       "                                                 abstract  \\\n",
       "count                                                8000   \n",
       "unique                                               7999   \n",
       "top     Methods for extending -- generalizing or trans...   \n",
       "freq                                                    2   \n",
       "\n",
       "                        published                           authors  \\\n",
       "count                        8000                              8000   \n",
       "unique                       7992                              7915   \n",
       "top     2021-11-08T17:02:32+00:00  ['Zhe Shen', 'Takeshi Tsuchiya']   \n",
       "freq                            3                                 4   \n",
       "\n",
       "                                      url  \n",
       "count                                8000  \n",
       "unique                               8000  \n",
       "top     http://arxiv.org/abs/2111.11418v1  \n",
       "freq                                    1  "
      ]
     },
     "execution_count": 10,
     "metadata": {},
     "output_type": "execute_result"
    }
   ],
   "source": [
    "dataset.describe()\n",
    "#202131037_Anugrah AK."
   ]
  },
  {
   "cell_type": "code",
   "execution_count": null,
   "id": "55365735",
   "metadata": {},
   "outputs": [],
   "source": []
  }
 ],
 "metadata": {
  "kernelspec": {
   "display_name": "Python 3 (ipykernel)",
   "language": "python",
   "name": "python3"
  },
  "language_info": {
   "codemirror_mode": {
    "name": "ipython",
    "version": 3
   },
   "file_extension": ".py",
   "mimetype": "text/x-python",
   "name": "python",
   "nbconvert_exporter": "python",
   "pygments_lexer": "ipython3",
   "version": "3.10.9"
  },
  "widgets": {
   "application/vnd.jupyter.widget-state+json": {
    "state": {},
    "version_major": 2,
    "version_minor": 0
   }
  }
 },
 "nbformat": 4,
 "nbformat_minor": 5
}
